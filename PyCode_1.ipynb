{
 "cells": [
  {
   "cell_type": "markdown",
   "id": "b2fc8ce7-c7d0-442b-947a-84a6cac2915e",
   "metadata": {},
   "source": [
    "Q1. Which keyword is used to create a function? Create a function to return a list of odd numbers in the \n",
    "range of 1 to 25."
   ]
  },
  {
   "cell_type": "code",
   "execution_count": 1,
   "id": "16dc4543-99f2-44e2-a428-621e276e5b55",
   "metadata": {},
   "outputs": [],
   "source": [
    "l = [1,2,3,4,5,6,7,8,9,10,11,12,13,14,15,16,17,18,19,20,21,22,23,24,25]"
   ]
  },
  {
   "cell_type": "code",
   "execution_count": 2,
   "id": "a888af89-6d3e-48a2-b4c1-ec397aa2bb9d",
   "metadata": {},
   "outputs": [],
   "source": [
    "def odd(x):\n",
    "    l1 = []\n",
    "    for i in x:\n",
    "        if i%2!=0:\n",
    "            l1.append(i)\n",
    "    return(l1)  "
   ]
  },
  {
   "cell_type": "code",
   "execution_count": 3,
   "id": "33c48027-47b6-4579-8a39-3a233646d38f",
   "metadata": {},
   "outputs": [
    {
     "data": {
      "text/plain": [
       "[1, 3, 5, 7, 9, 11, 13, 15, 17, 19, 21, 23, 25]"
      ]
     },
     "execution_count": 3,
     "metadata": {},
     "output_type": "execute_result"
    }
   ],
   "source": [
    "odd(l)   "
   ]
  },
  {
   "cell_type": "markdown",
   "id": "d671736d-b229-44a3-98bf-91c26ff1131c",
   "metadata": {},
   "source": [
    "Q2. Why *args and **kwargs is used in some functions? Create a function each for *args and **kwargs \n",
    "to demonstrate their use\n",
    "\n",
    "Ans: '*args' is used to pass the arguments in the function and it return the tuple data type.\n",
    "'**kwargs' is used to pass the keywords in the function and it return the dictionary data type. "
   ]
  },
  {
   "cell_type": "code",
   "execution_count": 4,
   "id": "018d5ae7-29d9-4f4b-a868-10faa2aed989",
   "metadata": {},
   "outputs": [],
   "source": [
    "def test(*args):\n",
    "    return args"
   ]
  },
  {
   "cell_type": "code",
   "execution_count": 5,
   "id": "1558f0c4-35d9-48ab-9b99-af7770a38baf",
   "metadata": {},
   "outputs": [
    {
     "data": {
      "text/plain": [
       "(1, 2, 3, 4)"
      ]
     },
     "execution_count": 5,
     "metadata": {},
     "output_type": "execute_result"
    }
   ],
   "source": [
    "test(1,2,3,4)  "
   ]
  },
  {
   "cell_type": "code",
   "execution_count": 6,
   "id": "c07c6f77-d8fc-4308-babd-f70df9077f6d",
   "metadata": {},
   "outputs": [],
   "source": [
    "def test1(**kwargs):\n",
    "    return kwargs"
   ]
  },
  {
   "cell_type": "code",
   "execution_count": 7,
   "id": "6d963cbf-5109-47d2-80e3-56beb2c6e770",
   "metadata": {},
   "outputs": [
    {
     "data": {
      "text/plain": [
       "{'name': 'sumit', 'courses': 'matser data 2.0'}"
      ]
     },
     "execution_count": 7,
     "metadata": {},
     "output_type": "execute_result"
    }
   ],
   "source": [
    "test1(name = 'sumit', courses = 'matser data 2.0')   "
   ]
  },
  {
   "cell_type": "markdown",
   "id": "b1951bdd-efc8-4291-b032-43dd62bf2eb4",
   "metadata": {},
   "source": [
    "Q3.  What is an iterator in python? Name the method used to initialise the iterator object and the method \n",
    "used for iteration. Use these methods to print the first five elements of the given list [2, 4, 6, 8, 10, 12, 14, \n",
    "16, 18, 20].\n",
    "\n",
    "Ans:-  iterator is the object that used to iterate the iterable object like tuple. It used next() to iterate."
   ]
  },
  {
   "cell_type": "code",
   "execution_count": 8,
   "id": "312907bb-54e6-4149-b27f-e076e3f58d61",
   "metadata": {},
   "outputs": [],
   "source": [
    "l = [2,4,6,8,10,12,14,16,18,20]"
   ]
  },
  {
   "cell_type": "code",
   "execution_count": 9,
   "id": "7d5c2a55-36a8-4e40-83c1-3b21662cdd06",
   "metadata": {},
   "outputs": [],
   "source": [
    "l1 = iter(l)"
   ]
  },
  {
   "cell_type": "code",
   "execution_count": 10,
   "id": "613effe4-5aea-4cc2-bdb7-db8338de4f59",
   "metadata": {},
   "outputs": [
    {
     "name": "stdout",
     "output_type": "stream",
     "text": [
      "2\n",
      "4\n",
      "6\n",
      "8\n",
      "10\n"
     ]
    }
   ],
   "source": [
    "for i in range(5):\n",
    "    print(next(l1))"
   ]
  },
  {
   "cell_type": "markdown",
   "id": "b5375df6-1049-4311-a700-399cc1d9664b",
   "metadata": {},
   "source": [
    "Q4.  What is a generator function in python? Why yield keyword is used? Give an example of a generator \n",
    "function.\n",
    "\n",
    "Ans:-  'generator' is the function that return the iterator that produce the sequence of value without store in memory.\n",
    "'yield' is used to produce the value from the generator."
   ]
  },
  {
   "cell_type": "code",
   "execution_count": 11,
   "id": "8f75dbf4-9d63-47d7-a803-eeed7f381b5e",
   "metadata": {},
   "outputs": [],
   "source": [
    "def test2(n):\n",
    "    a,b = 0,1\n",
    "    for i in range(n):\n",
    "        yield a\n",
    "        a,b = b, a+b\n",
    "    return n   "
   ]
  },
  {
   "cell_type": "code",
   "execution_count": 12,
   "id": "262cc139-fdc4-4969-a159-122c8dbda0ea",
   "metadata": {},
   "outputs": [
    {
     "name": "stdout",
     "output_type": "stream",
     "text": [
      "0\n",
      "1\n",
      "1\n",
      "2\n",
      "3\n",
      "5\n",
      "8\n",
      "13\n",
      "21\n",
      "34\n"
     ]
    }
   ],
   "source": [
    "for i in test2(10):\n",
    "    print(i)"
   ]
  },
  {
   "cell_type": "markdown",
   "id": "28815db9-2335-4be0-96bd-92262cc95c14",
   "metadata": {},
   "source": [
    "Q5. Create a generator function for prime numbers less than 1000. Use the next() method to print the \n",
    "first 20 prime numbers."
   ]
  },
  {
   "cell_type": "code",
   "execution_count": 13,
   "id": "f5c7a2fc-b3a4-4bb2-8076-9e4d0d40eb07",
   "metadata": {},
   "outputs": [
    {
     "name": "stdout",
     "output_type": "stream",
     "text": [
      "2\n",
      "3\n",
      "5\n",
      "7\n",
      "11\n",
      "13\n",
      "17\n",
      "19\n",
      "23\n",
      "29\n",
      "31\n",
      "37\n",
      "41\n",
      "43\n",
      "47\n",
      "53\n",
      "59\n",
      "61\n",
      "67\n",
      "71\n"
     ]
    }
   ],
   "source": [
    "def primes():\n",
    "    \n",
    "    yield 2\n",
    "    primes_list = [2]\n",
    "    for i in range(3, 1000):\n",
    "        is_prime = True\n",
    "        for prime in primes_list:\n",
    "            if i % prime == 0:\n",
    "                is_prime = False\n",
    "                break\n",
    "        if is_prime:\n",
    "            primes_list.append(i)\n",
    "            yield i\n",
    "\n",
    "prime_gen = primes()\n",
    "# the next() method to print the first 20 prime numbers.\n",
    "for i in range(20):\n",
    "    print(next(prime_gen))"
   ]
  },
  {
   "cell_type": "markdown",
   "id": "7ec3c531-40ef-4331-9c7a-b74305f29604",
   "metadata": {},
   "source": [
    "6. Write a python program to print the first 10 Fibonacci numbers using a while loop"
   ]
  },
  {
   "cell_type": "code",
   "execution_count": 14,
   "id": "6a90f261-d8a5-4c6b-8e02-d64eaad9fd4f",
   "metadata": {},
   "outputs": [],
   "source": [
    "def fib(n):\n",
    "    i = 0\n",
    "    a,b = 0,1\n",
    "    while i <10:\n",
    "        print(a)\n",
    "        x = a + b\n",
    "        a = b\n",
    "        b = x\n",
    "        i = i +1"
   ]
  },
  {
   "cell_type": "code",
   "execution_count": 15,
   "id": "ba130e62-2919-4136-963c-414ed4c6f855",
   "metadata": {},
   "outputs": [
    {
     "name": "stdout",
     "output_type": "stream",
     "text": [
      "0\n",
      "1\n",
      "1\n",
      "2\n",
      "3\n",
      "5\n",
      "8\n",
      "13\n",
      "21\n",
      "34\n"
     ]
    }
   ],
   "source": [
    "fib(10)"
   ]
  },
  {
   "cell_type": "markdown",
   "id": "fd4d92d7-a5dc-4901-bba7-d4c7cb82f76e",
   "metadata": {},
   "source": [
    "Q7. Write a List Comprehension to iterate through the given string: ‘pwskills’.\n",
    "\n",
    "Expected output: ['p', 'w', 's', 'k', 'i', 'l', 'l', 's'] "
   ]
  },
  {
   "cell_type": "code",
   "execution_count": null,
   "id": "3e5f66ed-9792-4157-93e2-8a3f413194a7",
   "metadata": {},
   "outputs": [],
   "source": []
  }
 ],
 "metadata": {
  "kernelspec": {
   "display_name": "Python 3 (ipykernel)",
   "language": "python",
   "name": "python3"
  },
  "language_info": {
   "codemirror_mode": {
    "name": "ipython",
    "version": 3
   },
   "file_extension": ".py",
   "mimetype": "text/x-python",
   "name": "python",
   "nbconvert_exporter": "python",
   "pygments_lexer": "ipython3",
   "version": "3.10.8"
  }
 },
 "nbformat": 4,
 "nbformat_minor": 5
}
